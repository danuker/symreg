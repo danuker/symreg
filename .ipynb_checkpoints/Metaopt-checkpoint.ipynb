{
 "cells": [
  {
   "cell_type": "code",
   "execution_count": 1,
   "metadata": {
    "scrolled": false
   },
   "outputs": [],
   "source": [
    "from symreg import Regressor\n",
    "import pandas as pd\n",
    "import numpy as np\n",
    "import random\n",
    "\n",
    "from sklearn.datasets import load_boston\n",
    "from sklearn.model_selection import train_test_split"
   ]
  },
  {
   "cell_type": "code",
   "execution_count": 2,
   "metadata": {
    "scrolled": false
   },
   "outputs": [
    {
     "data": {
      "text/plain": [
       "(203, 13)"
      ]
     },
     "execution_count": 2,
     "metadata": {},
     "output_type": "execute_result"
    }
   ],
   "source": [
    "X, y = load_boston(return_X_y=True)\n",
    "y /= y.max()\n",
    "X, Xt, y, yt = train_test_split(X, y, test_size=0.4, random_state=0)\n",
    "\n",
    "results = []\n",
    "Xt.shape"
   ]
  },
  {
   "cell_type": "code",
   "execution_count": null,
   "metadata": {
    "scrolled": true
   },
   "outputs": [],
   "source": [
    "diff_data, same_data, duration_per = 360, 1, 5 # 30 minutes\n",
    "# diff_data, same_data, duration_per = 180, 1, 5 # 15 minutes\n",
    "# diff_data, same_data, duration_per = 120, 1, 1 # 1 minute\n",
    "# diff_data, same_data, duration_per   = 4, 3, .1 # instant\n",
    "\n",
    "\n",
    "def time_left(diff_data):\n",
    "    return f'{diff_data * same_data * duration_per / 60} minutes'\n",
    "\n",
    "print(f'Will take {time_left(diff_data)}')\n",
    "\n",
    "def eval_settings(**settings):\n",
    "    print()\n",
    "    r = Regressor(duration=duration_per, verbose=True, **settings)\n",
    "    r.fit(X, y)\n",
    "    \n",
    "    y_out = r.predict(Xt)\n",
    "    error = np.median((yt - y_out) ** 2)\n",
    "    return {**settings, **{'error': error}}\n",
    "\n",
    "\n",
    "for i in range(diff_data):\n",
    "    muts = [random.random(), random.random(), random.random()]\n",
    "    muts = [m/sum(muts) for m in muts]\n",
    "    # muts[0] is pointwise mutation; used only for normalization\n",
    "    \n",
    "    args = {\n",
    "        'n': random.choice([10, 20, 35, 50, 100, 150, 250]),\n",
    "        'zero_program_chance': random.random(),\n",
    "        'grow_root_mutation_chance': muts[1],\n",
    "        'grow_leaf_mutation_chance': muts[2],\n",
    "        'int_std': random.choice([.1, .2, .3, .5, .8, 1.3, 2.1, 3.4, 5.5, 8.9, 14.4]),\n",
    "        'float_std': random.choice([.1, .2, .3, .5, .8, 1.3, 2.1, 3.4, 5.5, 8.9, 14.4]),\n",
    "    }\n",
    "    \n",
    "    datas = []\n",
    "    for _ in range(same_data):\n",
    "        datas.append(eval_settings(**args))\n",
    "    s = sorted(datas, key=lambda x: x['error'])\n",
    "    results.append(s[same_data//2])\n",
    "    print(results[-1])\n",
    "    print('------------', time_left(diff_data - i-1), 'left')\n",
    "    print()"
   ]
  },
  {
   "cell_type": "code",
   "execution_count": 4,
   "metadata": {},
   "outputs": [],
   "source": [
    "pd.DataFrame(results).sort_values('error').to_csv('metaopt.tsv', sep='\\t', index=False)"
   ]
  },
  {
   "cell_type": "code",
   "execution_count": 24,
   "metadata": {
    "scrolled": true
   },
   "outputs": [
    {
     "name": "stdout",
     "output_type": "stream",
     "text": [
      "Time left  : 5s\n",
      "Best so far: (0.013310002751555685, 29) (error, complexity)\n",
      "Generations evolved: 1705\n",
      "\n",
      "Done!\n",
      "\n",
      "\n",
      "{'error': 0.015763334964463627, 'complexity': 1, 'program': Program('0.30590493647777595', 6)}\n",
      "{'error': 0.01574957541004244, 'complexity': 3, 'program': Program('add 0.004309839269047481 0.2975108140891597', 6)}\n",
      "{'error': 0.01574946549923094, 'complexity': 4, 'program': Program('pow exp -1.1511968784689857 1.0391737856471317', 6)}\n",
      "{'error': 0.01530080586324725, 'complexity': 5, 'program': Program('div -2 sub -6.094150935574751 $3', 6)}\n",
      "{'error': 0.01458612480548016, 'complexity': 7, 'program': Program('div 1 add 1.8728073598489428 pow 3.377154310491382 $3', 6)}\n",
      "{'error': 0.013981816658324412, 'complexity': 9, 'program': Program('div 1 add add 1.6807908268816645 $0 pow 3 $3', 6)}\n",
      "{'error': 0.013666970543505054, 'complexity': 11, 'program': Program('div 1 add add div 1.6807908268816645 1.150909827456379 $0 pow 4 $3', 6)}\n",
      "{'error': 0.013610168465360754, 'complexity': 15, 'program': Program('div 1 add add div 1.6807908268816645 1.150909827456379 mul pow $4 $4 $0 pow 4 $3', 6)}\n",
      "{'error': 0.01350902482820562, 'complexity': 19, 'program': Program('div div div 2.600209548988319 2.600209548988319 add add sub 1.8885810308056727 $2 $0 pow exp exp $2 $3 div 0.17641417340930235 0.17641417340930235', 6)}\n",
      "{'error': 0.01350902482820562, 'complexity': 19, 'program': Program('mul div div 2.600209548988319 2.600209548988319 add add sub 1.8885810308056727 $2 $0 pow exp exp $2 $3 div 0.17641417340930235 0.17641417340930235', 6)}\n",
      "{'error': 0.01350902482820562, 'complexity': 19, 'program': Program('pow div div 2.600209548988319 2.600209548988319 add add sub 1.8885810308056727 $2 $0 pow exp exp $2 $3 div 0.17641417340930235 0.17641417340930235', 6)}\n",
      "{'error': 0.013475336677097136, 'complexity': 21, 'program': Program('mul div div 2.600209548988319 sub 2.600209548988319 0.03388562536401232 add add sub 1.8465297344147713 $2 $0 pow exp exp $2 $3 div 0.17641417340930235 0.17641417340930235', 6)}\n",
      "{'error': 0.013475336677097136, 'complexity': 21, 'program': Program('div div div 2.600209548988319 sub 2.600209548988319 0.03388562536401232 add add sub 1.8465297344147713 $2 $0 pow exp exp $2 $3 div 0.17641417340930235 0.17641417340930235', 6)}\n",
      "{'error': 0.013475336677097136, 'complexity': 21, 'program': Program('pow div div 2.600209548988319 sub 2.600209548988319 0.03388562536401232 add add sub 1.8465297344147713 $2 $0 pow exp exp $2 $3 div 0.17641417340930235 0.17641417340930235', 6)}\n",
      "{'error': 0.013402024697521471, 'complexity': 23, 'program': Program('pow div div 2.600209548988319 2.600209548988319 add add sub 1.8885810308056727 $2 $0 pow exp exp mul pow $4 $4 $2 $3 div 0.17641417340930235 0.17641417340930235', 6)}\n",
      "{'error': 0.013402024697521471, 'complexity': 23, 'program': Program('mul div div 2.600209548988319 2.600209548988319 add add sub 1.8885810308056727 $2 $0 pow exp exp mul pow $4 $4 $2 $3 div 0.17641417340930235 0.17641417340930235', 6)}\n",
      "{'error': 0.013402024697521471, 'complexity': 23, 'program': Program('div div div 2.600209548988319 2.600209548988319 add add sub 1.8885810308056727 $2 $0 pow exp exp mul pow $4 $4 $2 $3 div 0.17641417340930235 0.17641417340930235', 6)}\n",
      "{'error': 0.013237118974975913, 'complexity': 25, 'program': Program('mul div div 2.600209548988319 sub 2.600209548988319 div 0.03388562536401232 mul 3.144982797804256 $0 add add sub 2 $2 $0 pow exp exp $2 $3 div 0.17641417340930235 0.17641417340930235', 6)}\n",
      "{'error': 0.013237118974975913, 'complexity': 25, 'program': Program('pow div div 2.600209548988319 sub 2.600209548988319 div 0.03388562536401232 mul 3.144982797804256 $0 add add sub 2 $2 $0 pow exp exp $2 $3 div 0.17641417340930235 0.17641417340930235', 6)}\n",
      "{'error': 0.013237118974975913, 'complexity': 25, 'program': Program('div div div 2.600209548988319 sub 2.600209548988319 div 0.03388562536401232 mul 3.144982797804256 $0 add add sub 2 $2 $0 pow exp exp $2 $3 div 0.17641417340930235 0.17641417340930235', 6)}\n",
      "{'error': 0.01319291010254747, 'complexity': 26, 'program': Program('mul div div 2.600209548988319 sub 2.600209548988319 div exp -2.957988778571705 mul 3.144982797804256 $0 add add sub 2 $2 $0 pow exp exp $2 $3 div 0.17641417340930235 0.17641417340930235', 6)}\n"
     ]
    },
    {
     "data": {
      "text/html": [
       "<div>\n",
       "<style scoped>\n",
       "    .dataframe tbody tr th:only-of-type {\n",
       "        vertical-align: middle;\n",
       "    }\n",
       "\n",
       "    .dataframe tbody tr th {\n",
       "        vertical-align: top;\n",
       "    }\n",
       "\n",
       "    .dataframe thead th {\n",
       "        text-align: right;\n",
       "    }\n",
       "</style>\n",
       "<table border=\"1\" class=\"dataframe\">\n",
       "  <thead>\n",
       "    <tr style=\"text-align: right;\">\n",
       "      <th></th>\n",
       "      <th>n</th>\n",
       "      <th>zero_program_chance</th>\n",
       "      <th>grow_root_mutation_chance</th>\n",
       "      <th>grow_leaf_mutation_chance</th>\n",
       "      <th>int_std</th>\n",
       "      <th>float_std</th>\n",
       "      <th>error</th>\n",
       "    </tr>\n",
       "  </thead>\n",
       "  <tbody>\n",
       "    <tr>\n",
       "      <th>0</th>\n",
       "      <td>10</td>\n",
       "      <td>0.646718</td>\n",
       "      <td>0.193154</td>\n",
       "      <td>0.468956</td>\n",
       "      <td>8.9</td>\n",
       "      <td>0.3</td>\n",
       "      <td>0.165661</td>\n",
       "    </tr>\n",
       "    <tr>\n",
       "      <th>1</th>\n",
       "      <td>35</td>\n",
       "      <td>0.672573</td>\n",
       "      <td>0.209245</td>\n",
       "      <td>0.423587</td>\n",
       "      <td>1.3</td>\n",
       "      <td>1.3</td>\n",
       "      <td>0.169260</td>\n",
       "    </tr>\n",
       "    <tr>\n",
       "      <th>2</th>\n",
       "      <td>50</td>\n",
       "      <td>0.317607</td>\n",
       "      <td>0.288420</td>\n",
       "      <td>0.388196</td>\n",
       "      <td>0.5</td>\n",
       "      <td>14.4</td>\n",
       "      <td>0.170345</td>\n",
       "    </tr>\n",
       "    <tr>\n",
       "      <th>3</th>\n",
       "      <td>20</td>\n",
       "      <td>0.052365</td>\n",
       "      <td>0.246835</td>\n",
       "      <td>0.566046</td>\n",
       "      <td>2.1</td>\n",
       "      <td>3.4</td>\n",
       "      <td>0.171194</td>\n",
       "    </tr>\n",
       "    <tr>\n",
       "      <th>4</th>\n",
       "      <td>50</td>\n",
       "      <td>0.898775</td>\n",
       "      <td>0.294139</td>\n",
       "      <td>0.338331</td>\n",
       "      <td>0.3</td>\n",
       "      <td>0.3</td>\n",
       "      <td>0.172685</td>\n",
       "    </tr>\n",
       "    <tr>\n",
       "      <th>...</th>\n",
       "      <td>...</td>\n",
       "      <td>...</td>\n",
       "      <td>...</td>\n",
       "      <td>...</td>\n",
       "      <td>...</td>\n",
       "      <td>...</td>\n",
       "      <td>...</td>\n",
       "    </tr>\n",
       "    <tr>\n",
       "      <th>345</th>\n",
       "      <td>10</td>\n",
       "      <td>0.383291</td>\n",
       "      <td>0.352859</td>\n",
       "      <td>0.015876</td>\n",
       "      <td>8.9</td>\n",
       "      <td>0.5</td>\n",
       "      <td>0.748292</td>\n",
       "    </tr>\n",
       "    <tr>\n",
       "      <th>346</th>\n",
       "      <td>10</td>\n",
       "      <td>0.106799</td>\n",
       "      <td>0.395952</td>\n",
       "      <td>0.016971</td>\n",
       "      <td>2.1</td>\n",
       "      <td>0.5</td>\n",
       "      <td>0.753943</td>\n",
       "    </tr>\n",
       "    <tr>\n",
       "      <th>347</th>\n",
       "      <td>20</td>\n",
       "      <td>0.183338</td>\n",
       "      <td>0.180185</td>\n",
       "      <td>0.118347</td>\n",
       "      <td>2.1</td>\n",
       "      <td>2.1</td>\n",
       "      <td>0.770017</td>\n",
       "    </tr>\n",
       "    <tr>\n",
       "      <th>348</th>\n",
       "      <td>20</td>\n",
       "      <td>0.474143</td>\n",
       "      <td>0.631429</td>\n",
       "      <td>0.011579</td>\n",
       "      <td>0.5</td>\n",
       "      <td>1.3</td>\n",
       "      <td>0.782979</td>\n",
       "    </tr>\n",
       "    <tr>\n",
       "      <th>349</th>\n",
       "      <td>20</td>\n",
       "      <td>0.536147</td>\n",
       "      <td>0.742398</td>\n",
       "      <td>0.128103</td>\n",
       "      <td>8.9</td>\n",
       "      <td>0.8</td>\n",
       "      <td>1.000000</td>\n",
       "    </tr>\n",
       "  </tbody>\n",
       "</table>\n",
       "<p>350 rows × 7 columns</p>\n",
       "</div>"
      ],
      "text/plain": [
       "      n  zero_program_chance  grow_root_mutation_chance  \\\n",
       "0    10             0.646718                   0.193154   \n",
       "1    35             0.672573                   0.209245   \n",
       "2    50             0.317607                   0.288420   \n",
       "3    20             0.052365                   0.246835   \n",
       "4    50             0.898775                   0.294139   \n",
       "..   ..                  ...                        ...   \n",
       "345  10             0.383291                   0.352859   \n",
       "346  10             0.106799                   0.395952   \n",
       "347  20             0.183338                   0.180185   \n",
       "348  20             0.474143                   0.631429   \n",
       "349  20             0.536147                   0.742398   \n",
       "\n",
       "     grow_leaf_mutation_chance  int_std  float_std     error  \n",
       "0                     0.468956      8.9        0.3  0.165661  \n",
       "1                     0.423587      1.3        1.3  0.169260  \n",
       "2                     0.388196      0.5       14.4  0.170345  \n",
       "3                     0.566046      2.1        3.4  0.171194  \n",
       "4                     0.338331      0.3        0.3  0.172685  \n",
       "..                         ...      ...        ...       ...  \n",
       "345                   0.015876      8.9        0.5  0.748292  \n",
       "346                   0.016971      2.1        0.5  0.753943  \n",
       "347                   0.118347      2.1        2.1  0.770017  \n",
       "348                   0.011579      0.5        1.3  0.782979  \n",
       "349                   0.128103      8.9        0.8  1.000000  \n",
       "\n",
       "[350 rows x 7 columns]"
      ]
     },
     "execution_count": 24,
     "metadata": {},
     "output_type": "execute_result"
    }
   ],
   "source": [
    "resdf = pd.read_csv('metaopt.tsv', sep='\\t').sort_values('error').dropna()\n",
    "\n",
    "X2 = resdf.iloc[:, :-1]\n",
    "y2 = resdf.iloc[:, -1]\n",
    "X2 /= X2.max()\n",
    "y2 /= y2.max()\n",
    "r2 = Regressor(n=50, duration=10, verbose=True)\n",
    "r2.fit(X2.values, y2.values)\n",
    "\n",
    "print(\"\\nDone!\\n\\n\")\n",
    "\n",
    "for p in r2.results():\n",
    "    print(p)\n",
    "resdf"
   ]
  },
  {
   "cell_type": "markdown",
   "metadata": {},
   "source": [
    "# Conclusions\n",
    "\n",
    "~~~~It seems that the programs taking input into account (starting at the one of complexity 8, which uses `$2` - the `grow_root_mutation_chance`) do not explain much more of the error compared to ones that don't.~~~~\n",
    "\n",
    "~~~~In the current run, complexity 7 does not use any argument (so is actually a constant), but has an error very close to complexity 8: 0.0157 vs. 0.0154. This tells us that the variables are not very influential.~~~~\n",
    "\n",
    "I accidentally ran the evolution again, so the details in my comments no longer apply. But the programs still have a large error (almost as large as predicting constant values).\n",
    "\n",
    "Still, let's plot some programs for demonstration purposes."
   ]
  },
  {
   "cell_type": "code",
   "execution_count": 30,
   "metadata": {},
   "outputs": [
    {
     "data": {
      "image/png": "[encoded data removed]",
      "text/plain": [
       "<Figure size 432x288 with 1 Axes>"
      ]
     },
     "metadata": {
      "needs_background": "light"
     },
     "output_type": "display_data"
    }
   ],
   "source": [
    "from matplotlib import pyplot as plt\n",
    "from ga import Program\n",
    "\n",
    "funx = np.linspace(0, 1, 101)\n",
    "funy7 = Program('div 1 add 1.8728073598489428 pow 3.377154310491382 $0', 1).eval([funx]) # no need for params\n",
    "funy8 = Program('pow div 0.44836698212884213 add neg $0 2 0.9342499062909196', 1).eval([funx])\n",
    "funy10 = Program('div div div 0.14243585764379751 0.14243585764379751 exp -0.511369267917155 add 5.274978097694874 $0', 1).eval([funx])\n",
    "\n",
    "plt.scatter(funx, funy8, label='error vs grow_root old run')\n",
    "plt.scatter(funx, funy10, label='error vs grow_leaf old run')\n",
    "plt.scatter(funx, funy7, label='error vs grow_leaf accidental new run')\n",
    "plt.legend()\n",
    "plt.show()"
   ]
  },
  {
   "cell_type": "markdown",
   "metadata": {},
   "source": [
    "As you can see, the algorithm picked up on some correlations, but whether they're spurious can only be proven after further experimentation. It seems that between 2 runs on the same data, they vary quite significantly (the green vs. orange line).\n",
    "\n",
    "Still, we have to pick some parameters. We ended up using roughly the mean values of the top 30 individuals from the spreadsheet."
   ]
  },
  {
   "cell_type": "code",
   "execution_count": null,
   "metadata": {},
   "outputs": [],
   "source": []
  }
 ],
 "metadata": {
  "kernelspec": {
   "display_name": "Python 3",
   "language": "python",
   "name": "python3"
  },
  "language_info": {
   "codemirror_mode": {
    "name": "ipython",
    "version": 3
   },
   "file_extension": ".py",
   "mimetype": "text/x-python",
   "name": "python",
   "nbconvert_exporter": "python",
   "pygments_lexer": "ipython3",
   "version": "3.8.6"
  }
 },
 "nbformat": 4,
 "nbformat_minor": 4
}
