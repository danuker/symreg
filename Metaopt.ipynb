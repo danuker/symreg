{
 "cells": [
  {
   "cell_type": "code",
   "execution_count": 1,
   "metadata": {
    "scrolled": false
   },
   "outputs": [],
   "source": [
    "from symreg import Regressor\n",
    "import pandas as pd\n",
    "import numpy as np\n",
    "import random\n",
    "\n",
    "from sklearn.datasets import load_boston\n",
    "from sklearn.model_selection import train_test_split"
   ]
  },
  {
   "cell_type": "code",
   "execution_count": 2,
   "metadata": {
    "scrolled": false
   },
   "outputs": [
    {
     "data": {
      "text/plain": [
       "(203, 13)"
      ]
     },
     "execution_count": 2,
     "metadata": {},
     "output_type": "execute_result"
    }
   ],
   "source": [
    "X, y = load_boston(return_X_y=True)\n",
    "X /= X.mean()\n",
    "y /= y.mean()\n",
    "X, Xt, y, yt = train_test_split(X, y, test_size=0.4, random_state=0)\n",
    "\n",
    "results = []\n",
    "Xt.shape"
   ]
  },
  {
   "cell_type": "code",
   "execution_count": null,
   "metadata": {
    "scrolled": true
   },
   "outputs": [
    {
     "name": "stdout",
     "output_type": "stream",
     "text": [
      "Will take 30.0 minutes\n",
      "\n",
      "Complete. {'generations': 92, 'stagnated_generations': 0, 'duration': 5.287193775177002}\n",
      "{'n': 50, 'complete_tree_as_new_subtree_chance': 0.8731163110769317, 'mutation_children': 0.0637212518550343, 'crossover_children': 1.8326634169659481, 'simplify_chance': 0.6772521876110039, 'error': 0.016893869242723816}\n",
      "------------ 29.916666666666668 minutes left\n",
      "\n",
      "\n",
      "Complete. {'generations': 448, 'stagnated_generations': 1, 'duration': 5.02456521987915}\n",
      "{'n': 35, 'complete_tree_as_new_subtree_chance': 2.1383237117644782e-05, 'mutation_children': 0.23275169164959708, 'crossover_children': 1.2115853339317144, 'simplify_chance': 0.32149186163607735, 'error': 0.008418450758307574}\n",
      "------------ 29.833333333333332 minutes left\n",
      "\n",
      "\n",
      "Complete. {'generations': 623, 'stagnated_generations': 7, 'duration': 5.032642602920532}\n",
      "{'n': 35, 'complete_tree_as_new_subtree_chance': 0.9292897622195738, 'mutation_children': 0.022113844747769118, 'crossover_children': 1.4081584885129352, 'simplify_chance': 0.9562125558513789, 'error': 0.017823053803704088}\n",
      "------------ 29.75 minutes left\n",
      "\n",
      "\n",
      "Complete. {'generations': 512, 'stagnated_generations': 3, 'duration': 5.010897874832153}\n",
      "{'n': 35, 'complete_tree_as_new_subtree_chance': 0.10162941054770214, 'mutation_children': 0.8421426538762975, 'crossover_children': 0.5025602686752442, 'simplify_chance': 0.6980760160276207, 'error': 0.01008084470661181}\n",
      "------------ 29.666666666666668 minutes left\n",
      "\n",
      "\n",
      "Complete. {'generations': 51, 'stagnated_generations': 0, 'duration': 5.537062883377075}\n",
      "{'n': 80, 'complete_tree_as_new_subtree_chance': 0.7675284356579078, 'mutation_children': 0.06596068200009553, 'crossover_children': 1.5188874441454792, 'simplify_chance': 0.9386099099862806, 'error': 0.019576399200344007}\n",
      "------------ 29.583333333333332 minutes left\n",
      "\n",
      "\n",
      "Complete. {'generations': 199, 'stagnated_generations': 1, 'duration': 5.0308837890625}\n",
      "{'n': 50, 'complete_tree_as_new_subtree_chance': 0.019627075307178554, 'mutation_children': 1.9078990916127982, 'crossover_children': 0.4212797963035826, 'simplify_chance': 0.42477733294851805, 'error': 0.01384803007866179}\n",
      "------------ 29.5 minutes left\n",
      "\n",
      "\n",
      "Complete. {'generations': 687, 'stagnated_generations': 0, 'duration': 5.011046409606934}\n",
      "{'n': 35, 'complete_tree_as_new_subtree_chance': 0.0073822289918464845, 'mutation_children': 0.12416531196828773, 'crossover_children': 0.6551824890520566, 'simplify_chance': 0.2306119639982367, 'error': 0.011414653069589135}\n",
      "------------ 29.416666666666668 minutes left\n",
      "\n",
      "\n",
      "Complete. {'generations': 197, 'stagnated_generations': 0, 'duration': 5.102794408798218}\n",
      "{'n': 35, 'complete_tree_as_new_subtree_chance': 0.2390254294539561, 'mutation_children': 1.9370353771765572, 'crossover_children': 0.2687353068697651, 'simplify_chance': 0.9667892840021671, 'error': 0.01388718431776551}\n",
      "------------ 29.333333333333332 minutes left\n",
      "\n",
      "\n",
      "Complete. {'generations': 87, 'stagnated_generations': 0, 'duration': 5.166861295700073}\n",
      "{'n': 35, 'complete_tree_as_new_subtree_chance': 0.827946493527311, 'mutation_children': 1.6431156915998886, 'crossover_children': 1.5066016111977378, 'simplify_chance': 0.979867658583887, 'error': 0.012820793089430835}\n",
      "------------ 29.25 minutes left\n",
      "\n",
      "\n",
      "Complete. {'generations': 218, 'stagnated_generations': 3, 'duration': 5.033125877380371}\n",
      "{'n': 80, 'complete_tree_as_new_subtree_chance': 0.9023637302987333, 'mutation_children': 1.026856070790455, 'crossover_children': 0.31695773713627173, 'simplify_chance': 0.062390702655149344, 'error': 0.013828757365959562}\n",
      "------------ 29.166666666666668 minutes left\n",
      "\n",
      "\n",
      "Complete. {'generations': 120, 'stagnated_generations': 0, 'duration': 5.136159181594849}\n",
      "{'n': 35, 'complete_tree_as_new_subtree_chance': 0.753895005334794, 'mutation_children': 1.6006409267493582, 'crossover_children': 1.4214396062646961, 'simplify_chance': 0.38742791483776806, 'error': 0.013164200975330697}\n",
      "------------ 29.083333333333332 minutes left\n",
      "\n",
      "\n",
      "Complete. {'generations': 50, 'stagnated_generations': 0, 'duration': 5.55985426902771}\n",
      "{'n': 50, 'complete_tree_as_new_subtree_chance': 0.9103840933147337, 'mutation_children': 1.3274299945332348, 'crossover_children': 1.3189745232914514, 'simplify_chance': 0.9410154577223155, 'error': 0.014682958103509355}\n",
      "------------ 29.0 minutes left\n",
      "\n",
      "\n",
      "Complete. {'generations': 340, 'stagnated_generations': 1, 'duration': 5.029825448989868}\n",
      "{'n': 80, 'complete_tree_as_new_subtree_chance': 0.41806404482563686, 'mutation_children': 0.022917681114685395, 'crossover_children': 0.7477527197965039, 'simplify_chance': 0.07343819860157341, 'error': 0.014305215129866933}\n",
      "------------ 28.916666666666668 minutes left\n",
      "\n",
      "\n",
      "Complete. {'generations': 75, 'stagnated_generations': 0, 'duration': 5.082025766372681}\n",
      "{'n': 80, 'complete_tree_as_new_subtree_chance': 0.3580060045907105, 'mutation_children': 1.9445156839943885, 'crossover_children': 1.58499737118687, 'simplify_chance': 0.034390704714459264, 'error': 0.01341975056473084}\n",
      "------------ 28.833333333333332 minutes left\n",
      "\n",
      "\n",
      "Complete. {'generations': 105, 'stagnated_generations': 0, 'duration': 5.149507999420166}\n",
      "{'n': 80, 'complete_tree_as_new_subtree_chance': 0.4707630220781839, 'mutation_children': 0.01987363989206492, 'crossover_children': 1.6578522773712758, 'simplify_chance': 0.5745812156008876, 'error': 0.012956765390103096}\n",
      "------------ 28.75 minutes left\n",
      "\n",
      "\n",
      "Complete. {'generations': 146, 'stagnated_generations': 0, 'duration': 5.090738296508789}\n",
      "{'n': 35, 'complete_tree_as_new_subtree_chance': 0.3848001519383749, 'mutation_children': 1.7507655256278245, 'crossover_children': 1.8666991419414263, 'simplify_chance': 0.6896579759712277, 'error': 0.011935989581047376}\n",
      "------------ 28.666666666666668 minutes left\n",
      "\n",
      "\n",
      "Complete. {'generations': 285, 'stagnated_generations': 20, 'duration': 5.024136304855347}\n",
      "{'n': 35, 'complete_tree_as_new_subtree_chance': 0.5229218659414288, 'mutation_children': 0.7032423509819197, 'crossover_children': 0.8496154513222174, 'simplify_chance': 0.31644470660751856, 'error': 0.01259293267350138}\n",
      "------------ 28.583333333333332 minutes left\n",
      "\n",
      "\n",
      "Complete. {'generations': 103, 'stagnated_generations': 2, 'duration': 5.111175298690796}\n",
      "{'n': 50, 'complete_tree_as_new_subtree_chance': 0.9563738965544243, 'mutation_children': 0.4202454350311897, 'crossover_children': 1.3792954092747023, 'simplify_chance': 0.40981075570067615, 'error': 0.02086103614639182}\n",
      "------------ 28.5 minutes left\n",
      "\n",
      "\n",
      "Complete. {'generations': 148, 'stagnated_generations': 0, 'duration': 5.0715343952178955}\n",
      "{'n': 35, 'complete_tree_as_new_subtree_chance': 0.2410101034418407, 'mutation_children': 1.9724838475731044, 'crossover_children': 1.4204985201076497, 'simplify_chance': 0.7512753481305212, 'error': 0.01204359746519696}\n",
      "------------ 28.416666666666668 minutes left\n",
      "\n",
      "\n",
      "Complete. {'generations': 86059, 'stagnated_generations': 86057, 'duration': 5.000093698501587}\n",
      "{'n': 35, 'complete_tree_as_new_subtree_chance': 0.5291438686962626, 'mutation_children': 0.0126987652570274, 'crossover_children': 0.17966195403055196, 'simplify_chance': 0.9414882149096052, 'error': 0.83507989122915}\n",
      "------------ 28.333333333333332 minutes left\n",
      "\n",
      "\n",
      "Complete. {'generations': 216, 'stagnated_generations': 2, 'duration': 5.029760837554932}\n",
      "{'n': 50, 'complete_tree_as_new_subtree_chance': 0.1341431845202391, 'mutation_children': 0.36634964100198353, 'crossover_children': 1.345443830969421, 'simplify_chance': 0.015537141248155084, 'error': 0.014156587032247748}\n",
      "------------ 28.25 minutes left\n",
      "\n",
      "\n",
      "Complete. {'generations': 132, 'stagnated_generations': 0, 'duration': 5.0715553760528564}\n",
      "{'n': 80, 'complete_tree_as_new_subtree_chance': 0.1011712466364495, 'mutation_children': 0.8876417367154732, 'crossover_children': 1.7449839808279468, 'simplify_chance': 0.08268680123955474, 'error': 0.013468630589817539}\n",
      "------------ 28.166666666666668 minutes left\n",
      "\n",
      "\n",
      "Complete. {'generations': 145, 'stagnated_generations': 0, 'duration': 5.086931228637695}\n",
      "{'n': 80, 'complete_tree_as_new_subtree_chance': 0.38355742845650775, 'mutation_children': 1.4022344977081744, 'crossover_children': 0.5210316752994064, 'simplify_chance': 0.515333309154814, 'error': 0.008194843352862845}\n",
      "------------ 28.083333333333332 minutes left\n",
      "\n",
      "\n"
     ]
    },
    {
     "name": "stdout",
     "output_type": "stream",
     "text": [
      "Complete. {'generations': 293, 'stagnated_generations': 3, 'duration': 5.022019624710083}\n",
      "{'n': 80, 'complete_tree_as_new_subtree_chance': 0.43955332274509007, 'mutation_children': 0.3428765672057865, 'crossover_children': 0.27838417546984373, 'simplify_chance': 0.3694687984113636, 'error': 0.011768744256896854}\n",
      "------------ 28.0 minutes left\n",
      "\n",
      "\n",
      "Complete. {'generations': 1054, 'stagnated_generations': 5, 'duration': 5.008499622344971}\n",
      "{'n': 35, 'complete_tree_as_new_subtree_chance': 0.3062461541894266, 'mutation_children': 0.37454370201409337, 'crossover_children': 0.17396379308641374, 'simplify_chance': 0.2563456624983893, 'error': 0.014484501950550321}\n",
      "------------ 27.916666666666668 minutes left\n",
      "\n",
      "\n",
      "Complete. {'generations': 128, 'stagnated_generations': 2, 'duration': 5.075653553009033}\n",
      "{'n': 35, 'complete_tree_as_new_subtree_chance': 0.8069796073936458, 'mutation_children': 0.8273742635997168, 'crossover_children': 1.2680043941156824, 'simplify_chance': 0.9719586558285903, 'error': 0.01872552835508576}\n",
      "------------ 27.833333333333332 minutes left\n",
      "\n",
      "\n",
      "Complete. {'generations': 138, 'stagnated_generations': 9, 'duration': 5.04352593421936}\n",
      "{'n': 50, 'complete_tree_as_new_subtree_chance': 0.35045830445589077, 'mutation_children': 1.03302932732689, 'crossover_children': 0.8546323580356485, 'simplify_chance': 0.5358165384573707, 'error': 0.008853257216506705}\n",
      "------------ 27.75 minutes left\n",
      "\n",
      "\n",
      "Complete. {'generations': 323, 'stagnated_generations': 5, 'duration': 5.040862560272217}\n",
      "{'n': 50, 'complete_tree_as_new_subtree_chance': 0.029467668375247835, 'mutation_children': 0.2924711225168739, 'crossover_children': 0.9844546748314216, 'simplify_chance': 0.5235851952134216, 'error': 0.01196404935547251}\n",
      "------------ 27.666666666666668 minutes left\n",
      "\n",
      "\n",
      "Complete. {'generations': 269, 'stagnated_generations': 1, 'duration': 5.054880857467651}\n",
      "{'n': 35, 'complete_tree_as_new_subtree_chance': 0.5196294038395818, 'mutation_children': 1.400961713128847, 'crossover_children': 0.6411671794267622, 'simplify_chance': 0.036587230530078285, 'error': 0.01261590122460562}\n",
      "------------ 27.583333333333332 minutes left\n",
      "\n",
      "\n",
      "Complete. {'generations': 162, 'stagnated_generations': 9, 'duration': 5.0387091636657715}\n",
      "{'n': 80, 'complete_tree_as_new_subtree_chance': 0.7547028412843118, 'mutation_children': 0.9801458404321781, 'crossover_children': 0.38990360028685633, 'simplify_chance': 0.7080110876081054, 'error': 0.014842284955441945}\n",
      "------------ 27.5 minutes left\n",
      "\n",
      "\n",
      "Complete. {'generations': 234, 'stagnated_generations': 0, 'duration': 5.035964250564575}\n",
      "{'n': 35, 'complete_tree_as_new_subtree_chance': 0.1677341069497007, 'mutation_children': 1.3131787429843491, 'crossover_children': 1.751765987307699, 'simplify_chance': 0.059322978108285906, 'error': 0.01015368090611046}\n",
      "------------ 27.416666666666668 minutes left\n",
      "\n",
      "\n",
      "Complete. {'generations': 340, 'stagnated_generations': 1, 'duration': 5.018738031387329}\n",
      "{'n': 50, 'complete_tree_as_new_subtree_chance': 0.8793080517062474, 'mutation_children': 1.0558051160104922, 'crossover_children': 0.18026381979044115, 'simplify_chance': 0.3118799362197475, 'error': 0.01651037233076577}\n",
      "------------ 27.333333333333332 minutes left\n",
      "\n",
      "\n",
      "Complete. {'generations': 280, 'stagnated_generations': 0, 'duration': 5.033673524856567}\n",
      "{'n': 50, 'complete_tree_as_new_subtree_chance': 0.328669250509121, 'mutation_children': 1.759424217396654, 'crossover_children': 0.05119198176382067, 'simplify_chance': 0.05433581967474721, 'error': 0.013872964323043186}\n",
      "------------ 27.25 minutes left\n",
      "\n",
      "\n",
      "Complete. {'generations': 213, 'stagnated_generations': 3, 'duration': 5.046152353286743}\n",
      "{'n': 50, 'complete_tree_as_new_subtree_chance': 0.3456639511144721, 'mutation_children': 1.4361588307398019, 'crossover_children': 0.43212183425504525, 'simplify_chance': 0.42744118288094124, 'error': 0.012265428017835932}\n",
      "------------ 27.166666666666668 minutes left\n",
      "\n",
      "\n",
      "Complete. {'generations': 115, 'stagnated_generations': 0, 'duration': 5.103360414505005}\n",
      "{'n': 50, 'complete_tree_as_new_subtree_chance': 0.04968839257495772, 'mutation_children': 1.9106556585209007, 'crossover_children': 1.4107724919067608, 'simplify_chance': 0.9935159597209855, 'error': 0.010867320309188213}\n",
      "------------ 27.083333333333332 minutes left\n",
      "\n",
      "\n",
      "Complete. {'generations': 235, 'stagnated_generations': 2, 'duration': 5.030145645141602}\n",
      "{'n': 50, 'complete_tree_as_new_subtree_chance': 0.16499837587512356, 'mutation_children': 1.5161346654883718, 'crossover_children': 0.1255288917430839, 'simplify_chance': 0.7786072262264377, 'error': 0.013386473313486368}\n",
      "------------ 27.0 minutes left\n",
      "\n",
      "\n"
     ]
    }
   ],
   "source": [
    "diff_data, duration_per = 360, 5 # 30 minutes\n",
    "# diff_data, duration_per = 180, 5 # 15 minutes\n",
    "# diff_data, duration_per = 120, 1 # 2 minutes\n",
    "# diff_data, duration_per   = 50, .1 # instant\n",
    "\n",
    "\n",
    "def time_left(diff_data):\n",
    "    return f'{diff_data * duration_per / 60} minutes'\n",
    "\n",
    "print(f'Will take {time_left(diff_data)}')\n",
    "\n",
    "def eval_settings(**settings):\n",
    "    print()\n",
    "    r = Regressor(duration=duration_per, verbose=True, **settings)\n",
    "    r.fit(X, y)\n",
    "    \n",
    "    y_out = r.predict(Xt)\n",
    "    error = np.median((yt - y_out) ** 2)\n",
    "    return {**settings, **{'error': error}}\n",
    "\n",
    "\n",
    "for i in range(diff_data):\n",
    "#     muts = [random.random()*.32, random.random()*.42]\n",
    "#     hoist_mutation_chance = .13\n",
    "#     grow_root_mutation_chance = .13\n",
    "#     muts = [m/(sum(muts)+hoist_mutation_chance+grow_root_mutation_chance) for m in muts]\n",
    "    # muts[0] is pointwise mutation; used only for normalization\n",
    "    \n",
    "    args = {\n",
    "        'n': random.choice([35, 50, 80]),\n",
    "        'complete_tree_as_new_subtree_chance': random.random(),\n",
    "        'mutation_children': random.random()*2,\n",
    "        'crossover_children': random.random()*2,\n",
    "        'simplify_chance': random.random(),\n",
    "    }\n",
    "    \n",
    "    results.append(eval_settings(**args))\n",
    "    print(results[-1])\n",
    "    print('------------', time_left(diff_data - i-1), 'left')\n",
    "    print()"
   ]
  },
  {
   "cell_type": "code",
   "execution_count": null,
   "metadata": {},
   "outputs": [],
   "source": [
    "pd.DataFrame(results).sort_values('error').to_csv('metaopt.tsv', sep='\\t', index=False)"
   ]
  },
  {
   "cell_type": "code",
   "execution_count": null,
   "metadata": {
    "scrolled": true
   },
   "outputs": [],
   "source": [
    "resdf = pd.read_csv('metaopt.tsv', sep='\\t').sort_values('error').dropna()\n",
    "\n",
    "split = list(map(int, np.linspace(0, 100, 33)[1:]))\n",
    "percs = [s/100 for s in split]\n",
    "names = [f'{s}%' for s in split]\n",
    "percentiles = resdf['error'].describe(percentiles=percs).loc[names]\n",
    "print(names)\n",
    "resdf['chunk'] = 0\n",
    "for p in percentiles:\n",
    "    resdf.loc[resdf['error'] > p, 'chunk'] += 1\n",
    "\n",
    "final_res = pd.concat([resdf.groupby('chunk').mean(), resdf.groupby('chunk').count()['error']], axis=1)\n",
    "final_res"
   ]
  },
  {
   "cell_type": "code",
   "execution_count": null,
   "metadata": {
    "scrolled": true
   },
   "outputs": [],
   "source": [
    "noerror = final_res.iloc[:, :-2]\n",
    "noerror['n'] /= 100\n",
    "noerror['rand'] = np.random.random(np.shape(noerror['n']))/5+.5\n",
    "noerror['rand2'] = np.random.random(np.shape(noerror['n']))/5+.5\n",
    "noerror.plot(figsize=(15, 10))\n",
    "noerror"
   ]
  },
  {
   "cell_type": "code",
   "execution_count": null,
   "metadata": {},
   "outputs": [],
   "source": [
    "final_res.iloc[:, :-1].corr('spearman')"
   ]
  },
  {
   "cell_type": "code",
   "execution_count": null,
   "metadata": {},
   "outputs": [],
   "source": [
    "r2 = Regressor(duration=10, simplify_chance=0.7, verbose=True)\n",
    "X = resdf.iloc[:,  :-2]\n",
    "y = resdf.iloc[:, -2]\n",
    "\n",
    "r2.fit(X, y)"
   ]
  },
  {
   "cell_type": "code",
   "execution_count": null,
   "metadata": {},
   "outputs": [],
   "source": [
    "r2.results()\n",
    "\n",
    "# constant prog error: 0.0018655041589379236 before 0-simplification and 1-simplif"
   ]
  },
  {
   "cell_type": "code",
   "execution_count": null,
   "metadata": {},
   "outputs": [],
   "source": [
    "X = pd.DataFrame({'n': np.linspace(0, 1, 1001)})\n",
    "from symreg.ga import Program\n",
    "p = Program(\n",
    "    'mul add 1.3919445013961234 0.004935158262587003 mul pow $n 0.017308843547676457 exp -4.774142744886527'\\\n",
    "    .replace('$n', '$0')\n",
    ")\n",
    "X['err'] = p.eval([X['n']])\n",
    "X.plot(x='n', y='err', logy=True)"
   ]
  },
  {
   "cell_type": "markdown",
   "metadata": {},
   "source": [
    "We chose `mutation_children` to be 1 in production. It seems the other arguments do not matter - the error is very close to the constant program (complexity 1)."
   ]
  },
  {
   "cell_type": "code",
   "execution_count": null,
   "metadata": {},
   "outputs": [],
   "source": []
  }
 ],
 "metadata": {
  "kernelspec": {
   "display_name": "Python 3",
   "language": "python",
   "name": "python3"
  },
  "language_info": {
   "codemirror_mode": {
    "name": "ipython",
    "version": 3
   },
   "file_extension": ".py",
   "mimetype": "text/x-python",
   "name": "python",
   "nbconvert_exporter": "python",
   "pygments_lexer": "ipython3",
   "version": "3.8.6"
  }
 },
 "nbformat": 4,
 "nbformat_minor": 4
}
