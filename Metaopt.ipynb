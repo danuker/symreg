{
 "cells": [
  {
   "cell_type": "code",
   "execution_count": 1,
   "metadata": {
    "scrolled": false
   },
   "outputs": [],
   "source": [
    "from symreg import Regressor\n",
    "import pandas as pd\n",
    "import numpy as np\n",
    "import random\n",
    "import traceback\n",
    "\n",
    "from sklearn.datasets import load_boston\n",
    "from sklearn.model_selection import train_test_split"
   ]
  },
  {
   "cell_type": "code",
   "execution_count": 2,
   "metadata": {
    "scrolled": true
   },
   "outputs": [
    {
     "name": "stdout",
     "output_type": "stream",
     "text": [
      "Will take 1.0 minutes\n",
      "Time left  : 1.98s\n",
      "Best so far: (0.2215583087143844, 150) (error, complexity)\n",
      "Time left  : 0.97s\n",
      "Best so far: (0.21060594470535846, 71) (error, complexity)\n",
      "Complete. {'generations': 142, 'stagnated_generations': 2, 'duration': 3.0360569953918457}\n",
      "{'simplify_chance': 0.1022210925762524, 'error': 0.01637658396698121}\n",
      "------------ 0.95 minutes left\n",
      "Time left  : 1.98s\n",
      "Best so far: (0.22144102246490224, 33) (error, complexity)\n",
      "Time left  : 0.97s\n",
      "Best so far: (0.21926389235098753, 50) (error, complexity)\n",
      "Time left  : -0.03s\n",
      "Best so far: (0.21694021148463047, 92) (error, complexity)\n",
      "Complete. {'generations': 178, 'stagnated_generations': 0, 'duration': 3.0562963485717773}\n",
      "{'simplify_chance': 0.06671821220562006, 'error': 0.018926714144871168}\n",
      "------------ 0.9 minutes left\n",
      "Time left  : 1.98s\n",
      "Best so far: (0.22680688329796866, 40) (error, complexity)\n",
      "Time left  : 0.97s\n",
      "Best so far: (0.20430307939217673, 20) (error, complexity)\n",
      "Complete. {'generations': 224, 'stagnated_generations': 2, 'duration': 3.0214052200317383}\n",
      "{'simplify_chance': 0.10780171359446247, 'error': 0.024388984630303458}\n",
      "------------ 0.85 minutes left\n",
      "Time left  : 1.98s\n",
      "Best so far: (0.22281489089386458, 53) (error, complexity)\n",
      "Time left  : 0.97s\n",
      "Best so far: (0.2139044014136656, 31) (error, complexity)\n",
      "Complete. {'generations': 216, 'stagnated_generations': 0, 'duration': 3.0249927043914795}\n",
      "{'simplify_chance': 0.07189823135459457, 'error': 0.011956473193135095}\n",
      "------------ 0.8 minutes left\n",
      "Time left  : 1.99s\n",
      "Best so far: (0.3493858750049204, 94) (error, complexity)\n",
      "Time left  : 0.98s\n",
      "Best so far: (0.23813993324457983, 25) (error, complexity)\n",
      "Complete. {'generations': 173, 'stagnated_generations': 0, 'duration': 3.0352683067321777}\n",
      "{'simplify_chance': 0.07180240448687172, 'error': 0.013450123027841765}\n",
      "------------ 0.75 minutes left\n",
      "Time left  : 1.97s\n",
      "Best so far: (0.23822656023858593, 112) (error, complexity)\n",
      "Time left  : 0.94s\n",
      "Best so far: (0.2341910262184855, 256) (error, complexity)\n",
      "Time left  : -0.11s\n",
      "Best so far: (0.22855643353206906, 540) (error, complexity)\n",
      "Complete. {'generations': 127, 'stagnated_generations': 0, 'duration': 3.1727747917175293}\n",
      "{'simplify_chance': 0.0911450847444851, 'error': 0.014221915286633928}\n",
      "------------ 0.7 minutes left\n",
      "Time left  : 1.99s\n",
      "Best so far: (0.35304718225438975, 28) (error, complexity)\n",
      "Time left  : 0.98s\n",
      "Best so far: (0.33056950176180316, 45) (error, complexity)\n",
      "Complete. {'generations': 226, 'stagnated_generations': 0, 'duration': 3.0291635990142822}\n",
      "{'simplify_chance': 0.09966700418808315, 'error': 0.03425817816624462}\n",
      "------------ 0.65 minutes left\n",
      "Time left  : 1.99s\n",
      "Best so far: (0.2514670666085886, 31) (error, complexity)\n",
      "Time left  : 0.97s\n",
      "Best so far: (0.19964170766426778, 140) (error, complexity)\n",
      "Complete. {'generations': 172, 'stagnated_generations': 0, 'duration': 3.0261037349700928}\n",
      "{'simplify_chance': 0.07619163824165812, 'error': 0.03905727019280153}\n",
      "------------ 0.6 minutes left\n",
      "Time left  : 1.98s\n",
      "Best so far: (0.20088589832059162, 61) (error, complexity)\n",
      "Time left  : 0.97s\n",
      "Best so far: (0.19729824326201967, 36) (error, complexity)\n",
      "Complete. {'generations': 188, 'stagnated_generations': 1, 'duration': 3.0230712890625}\n",
      "{'simplify_chance': 0.07133529296905244, 'error': 0.02352470126275631}\n",
      "------------ 0.55 minutes left\n",
      "Time left  : 1.98s\n",
      "Best so far: (0.22683502713783577, 59) (error, complexity)\n",
      "Time left  : 0.96s\n",
      "Best so far: (0.21283150030884612, 35) (error, complexity)\n",
      "Complete. {'generations': 196, 'stagnated_generations': 2, 'duration': 3.0211987495422363}\n",
      "{'simplify_chance': 0.08315036789075107, 'error': 0.015593126713346676}\n",
      "------------ 0.5 minutes left\n",
      "Time left  : 1.98s\n",
      "Best so far: (0.24700661999941265, 74) (error, complexity)\n",
      "Time left  : 0.97s\n",
      "Best so far: (0.23711907775848745, 10) (error, complexity)\n",
      "Complete. {'generations': 166, 'stagnated_generations': 0, 'duration': 3.0495517253875732}\n",
      "{'simplify_chance': 0.08857012973449567, 'error': 0.014401298696517177}\n",
      "------------ 0.45 minutes left\n",
      "Time left  : 1.98s\n",
      "Best so far: (0.2259549489407166, 51) (error, complexity)\n",
      "Time left  : 0.98s\n",
      "Best so far: (0.21654459823992797, 93) (error, complexity)\n",
      "Complete. {'generations': 184, 'stagnated_generations': 0, 'duration': 3.0397226810455322}\n",
      "{'simplify_chance': 0.08261897767549092, 'error': 0.02022408265801978}\n",
      "------------ 0.4 minutes left\n",
      "Time left  : 1.99s\n",
      "Best so far: (0.3589308279926903, 12) (error, complexity)\n",
      "Time left  : 0.99s\n",
      "Best so far: (0.32914220742962896, 32) (error, complexity)\n",
      "Time left  : -0.01s\n",
      "Best so far: (0.25567661361052807, 40) (error, complexity)\n",
      "Complete. {'generations': 254, 'stagnated_generations': 0, 'duration': 3.0290212631225586}\n",
      "{'simplify_chance': 0.0837285339344274, 'error': 0.03357438623526704}\n",
      "------------ 0.35 minutes left\n",
      "Time left  : 1.99s\n",
      "Best so far: (0.35050445758686116, 11) (error, complexity)\n",
      "Time left  : 0.99s\n",
      "Best so far: (0.3437999407722889, 27) (error, complexity)\n",
      "Time left  : -0.01s\n",
      "Best so far: (0.336118803858541, 39) (error, complexity)\n",
      "Complete. {'generations': 251, 'stagnated_generations': 1, 'duration': 3.0287606716156006}\n",
      "{'simplify_chance': 0.07295042458577368, 'error': 0.03166136420329779}\n",
      "------------ 0.3 minutes left\n",
      "Time left  : 1.98s\n",
      "Best so far: (0.27640677528660085, 32) (error, complexity)\n",
      "Time left  : 0.97s\n",
      "Best so far: (0.20790289554563937, 45) (error, complexity)\n",
      "Complete. {'generations': 235, 'stagnated_generations': 1, 'duration': 3.0120482444763184}\n",
      "{'simplify_chance': 0.06534142688508278, 'error': 0.023113605401801008}\n",
      "------------ 0.25 minutes left\n",
      "Time left  : 1.98s\n",
      "Best so far: (0.20571822826839403, 32) (error, complexity)\n",
      "Time left  : 0.97s\n",
      "Best so far: (0.1944861978119678, 210) (error, complexity)\n",
      "Time left  : -0.04s\n",
      "Best so far: (0.19351786914946562, 214) (error, complexity)\n",
      "Complete. {'generations': 154, 'stagnated_generations': 0, 'duration': 3.099179744720459}\n",
      "{'simplify_chance': 0.10826210707760614, 'error': 0.011862384194069275}\n",
      "------------ 0.2 minutes left\n",
      "Time left  : 1.99s\n",
      "Best so far: (0.24047467671242204, 51) (error, complexity)\n",
      "Time left  : 0.97s\n",
      "Best so far: (0.23574012935106195, 75) (error, complexity)\n",
      "Complete. {'generations': 180, 'stagnated_generations': 1, 'duration': 3.051236391067505}\n",
      "{'simplify_chance': 0.07807613874570375, 'error': 0.015098125491605665}\n",
      "------------ 0.15 minutes left\n",
      "Time left  : 1.99s\n",
      "Best so far: (0.3196629666737337, 39) (error, complexity)\n",
      "Time left  : 0.97s\n",
      "Best so far: (0.22754904750467592, 41) (error, complexity)\n",
      "Complete. {'generations': 198, 'stagnated_generations': 0, 'duration': 3.028981924057007}\n",
      "{'simplify_chance': 0.08609919548562465, 'error': 0.031215842902643808}\n",
      "------------ 0.1 minutes left\n",
      "Time left  : 1.99s\n",
      "Best so far: (0.23045462465343616, 14) (error, complexity)\n",
      "Time left  : 0.98s\n",
      "Best so far: (0.2037317244650088, 52) (error, complexity)\n",
      "Complete. {'generations': 219, 'stagnated_generations': 3, 'duration': 3.0186617374420166}\n",
      "{'simplify_chance': 0.06906324316666107, 'error': 0.020651360572699805}\n",
      "------------ 0.05 minutes left\n",
      "Time left  : 1.99s\n",
      "Best so far: (0.26351256037702364, 92) (error, complexity)\n",
      "Time left  : 0.98s\n",
      "Best so far: (0.24398830453816617, 41) (error, complexity)\n",
      "Time left  : -0.02s\n",
      "Best so far: (0.2192405226265494, 91) (error, complexity)\n",
      "Complete. {'generations': 193, 'stagnated_generations': 0, 'duration': 3.0429742336273193}\n",
      "{'simplify_chance': 0.09385629134001353, 'error': 0.01974370388662407}\n",
      "------------ 0.0 minutes left\n"
     ]
    }
   ],
   "source": [
    "diff_data, duration_per = 600, 3 # 30 minutes\n",
    "# diff_data, duration_per = 180, 3 # 15 minutes\n",
    "# diff_data, duration_per = 120, 1.8 # 3.6 minutes\n",
    "# diff_data, duration_per   = 30, 3 # instant\n",
    "\n",
    "X, y = load_boston(return_X_y=True)\n",
    "X /= X.mean()\n",
    "y /= y.mean()\n",
    "X, Xt, y, yt = train_test_split(X, y, test_size=0.4, random_state=0)\n",
    "\n",
    "results = []\n",
    "\n",
    "def time_left(diff_data):\n",
    "    return f'{diff_data * duration_per / 60} minutes'\n",
    "\n",
    "print(f'Will take {time_left(diff_data)}')\n",
    "\n",
    "def eval_settings(**settings):\n",
    "    r = Regressor(verbose=True, duration=duration_per, **settings)\n",
    "    r.fit(X, y)\n",
    "    \n",
    "    y_out = r.predict(Xt, max_complexity=10)\n",
    "    error = np.median((yt - y_out) ** 2)\n",
    "    return {**settings, **{'error': error}}\n",
    "\n",
    "\n",
    "for i in range(diff_data):\n",
    "    random.seed(i)\n",
    "    try:\n",
    "        args = {\n",
    "#             'mutation_children': random.choice([0, 1, 2, 3, 4, 5]),\n",
    "#             'crossover_children': random.choice([0, 1, 2, 3, 4, 5]),\n",
    "            'simplify_chance': random.random()*.05 + .06,\n",
    "        }\n",
    "\n",
    "        results.append(eval_settings(**args))\n",
    "        print(results[-1])\n",
    "        print('------------', time_left(diff_data - i-1), 'left')\n",
    "    except ValueError as e:\n",
    "        print('------------', 'Value Error for seed', i, ': ', args)\n",
    "        traceback.print_exc()\n"
   ]
  },
  {
   "cell_type": "code",
   "execution_count": 3,
   "metadata": {},
   "outputs": [],
   "source": [
    "pd.DataFrame(results).sort_values('error').to_csv('metaopt.tsv', sep='\\t', index=False)"
   ]
  },
  {
   "cell_type": "code",
   "execution_count": 4,
   "metadata": {
    "scrolled": true
   },
   "outputs": [
    {
     "name": "stdout",
     "output_type": "stream",
     "text": [
      "['20%', '40%', '60%', '80%', '100%']\n"
     ]
    },
    {
     "data": {
      "text/html": [
       "<div>\n",
       "<style scoped>\n",
       "    .dataframe tbody tr th:only-of-type {\n",
       "        vertical-align: middle;\n",
       "    }\n",
       "\n",
       "    .dataframe tbody tr th {\n",
       "        vertical-align: top;\n",
       "    }\n",
       "\n",
       "    .dataframe thead th {\n",
       "        text-align: right;\n",
       "    }\n",
       "</style>\n",
       "<table border=\"1\" class=\"dataframe\">\n",
       "  <thead>\n",
       "    <tr style=\"text-align: right;\">\n",
       "      <th></th>\n",
       "      <th>simplify_chance</th>\n",
       "      <th>error</th>\n",
       "      <th>error</th>\n",
       "    </tr>\n",
       "    <tr>\n",
       "      <th>chunk</th>\n",
       "      <th></th>\n",
       "      <th></th>\n",
       "      <th></th>\n",
       "    </tr>\n",
       "  </thead>\n",
       "  <tbody>\n",
       "    <tr>\n",
       "      <th>0</th>\n",
       "      <td>0.085777</td>\n",
       "      <td>0.012873</td>\n",
       "      <td>4</td>\n",
       "    </tr>\n",
       "    <tr>\n",
       "      <th>1</th>\n",
       "      <td>0.088004</td>\n",
       "      <td>0.015367</td>\n",
       "      <td>4</td>\n",
       "    </tr>\n",
       "    <tr>\n",
       "      <th>2</th>\n",
       "      <td>0.078064</td>\n",
       "      <td>0.019886</td>\n",
       "      <td>4</td>\n",
       "    </tr>\n",
       "    <tr>\n",
       "      <th>3</th>\n",
       "      <td>0.082644</td>\n",
       "      <td>0.025561</td>\n",
       "      <td>4</td>\n",
       "    </tr>\n",
       "    <tr>\n",
       "      <th>4</th>\n",
       "      <td>0.083134</td>\n",
       "      <td>0.034638</td>\n",
       "      <td>4</td>\n",
       "    </tr>\n",
       "  </tbody>\n",
       "</table>\n",
       "</div>"
      ],
      "text/plain": [
       "       simplify_chance     error  error\n",
       "chunk                                  \n",
       "0             0.085777  0.012873      4\n",
       "1             0.088004  0.015367      4\n",
       "2             0.078064  0.019886      4\n",
       "3             0.082644  0.025561      4\n",
       "4             0.083134  0.034638      4"
      ]
     },
     "execution_count": 4,
     "metadata": {},
     "output_type": "execute_result"
    }
   ],
   "source": [
    "resdf = pd.read_csv('metaopt.tsv', sep='\\t').sort_values('error').dropna()\n",
    "\n",
    "split = list(map(int, np.linspace(0, 100, 6)[1:]))\n",
    "percs = [s/100 for s in split]\n",
    "names = [f'{s}%' for s in split]\n",
    "percentiles = resdf['error'].describe(percentiles=percs).loc[names]\n",
    "print(names)\n",
    "resdf['chunk'] = 0\n",
    "for p in percentiles:\n",
    "    resdf.loc[resdf['error'] > p, 'chunk'] += 1\n",
    "\n",
    "final_res = pd.concat([resdf.groupby('chunk').mean(), resdf.groupby('chunk').count()['error']], axis=1)\n",
    "final_res"
   ]
  },
  {
   "cell_type": "code",
   "execution_count": 5,
   "metadata": {},
   "outputs": [
    {
     "data": {
      "text/plain": [
       "<matplotlib.axes._subplots.AxesSubplot at 0x7feb258de070>"
      ]
     },
     "execution_count": 5,
     "metadata": {},
     "output_type": "execute_result"
    },
    {
     "data": {
      "image/png": "[encoded data removed]",
      "text/plain": [
       "<Figure size 432x288 with 1 Axes>"
      ]
     },
     "metadata": {
      "needs_background": "light"
     },
     "output_type": "display_data"
    }
   ],
   "source": [
    "resdf[['simplify_chance', 'error']].plot(x='simplify_chance', style='.')"
   ]
  },
  {
   "cell_type": "code",
   "execution_count": 6,
   "metadata": {
    "scrolled": false
   },
   "outputs": [
    {
     "data": {
      "text/html": [
       "<div>\n",
       "<style scoped>\n",
       "    .dataframe tbody tr th:only-of-type {\n",
       "        vertical-align: middle;\n",
       "    }\n",
       "\n",
       "    .dataframe tbody tr th {\n",
       "        vertical-align: top;\n",
       "    }\n",
       "\n",
       "    .dataframe thead th {\n",
       "        text-align: right;\n",
       "    }\n",
       "</style>\n",
       "<table border=\"1\" class=\"dataframe\">\n",
       "  <thead>\n",
       "    <tr style=\"text-align: right;\">\n",
       "      <th></th>\n",
       "      <th>simplify_chance</th>\n",
       "    </tr>\n",
       "    <tr>\n",
       "      <th>chunk</th>\n",
       "      <th></th>\n",
       "    </tr>\n",
       "  </thead>\n",
       "  <tbody>\n",
       "    <tr>\n",
       "      <th>0</th>\n",
       "      <td>0.085777</td>\n",
       "    </tr>\n",
       "    <tr>\n",
       "      <th>1</th>\n",
       "      <td>0.088004</td>\n",
       "    </tr>\n",
       "    <tr>\n",
       "      <th>2</th>\n",
       "      <td>0.078064</td>\n",
       "    </tr>\n",
       "    <tr>\n",
       "      <th>3</th>\n",
       "      <td>0.082644</td>\n",
       "    </tr>\n",
       "    <tr>\n",
       "      <th>4</th>\n",
       "      <td>0.083134</td>\n",
       "    </tr>\n",
       "  </tbody>\n",
       "</table>\n",
       "</div>"
      ],
      "text/plain": [
       "       simplify_chance\n",
       "chunk                 \n",
       "0             0.085777\n",
       "1             0.088004\n",
       "2             0.078064\n",
       "3             0.082644\n",
       "4             0.083134"
      ]
     },
     "execution_count": 6,
     "metadata": {},
     "output_type": "execute_result"
    },
    {
     "data": {
      "image/png": "[encoded data removed]",
      "text/plain": [
       "<Figure size 1080x720 with 1 Axes>"
      ]
     },
     "metadata": {
      "needs_background": "light"
     },
     "output_type": "display_data"
    }
   ],
   "source": [
    "noerror = final_res.iloc[:, :-2]\n",
    "noerror.plot(figsize=(15, 10), grid=True)\n",
    "noerror"
   ]
  },
  {
   "cell_type": "code",
   "execution_count": 7,
   "metadata": {},
   "outputs": [
    {
     "data": {
      "text/html": [
       "<div>\n",
       "<style scoped>\n",
       "    .dataframe tbody tr th:only-of-type {\n",
       "        vertical-align: middle;\n",
       "    }\n",
       "\n",
       "    .dataframe tbody tr th {\n",
       "        vertical-align: top;\n",
       "    }\n",
       "\n",
       "    .dataframe thead th {\n",
       "        text-align: right;\n",
       "    }\n",
       "</style>\n",
       "<table border=\"1\" class=\"dataframe\">\n",
       "  <thead>\n",
       "    <tr style=\"text-align: right;\">\n",
       "      <th></th>\n",
       "      <th>simplify_chance</th>\n",
       "      <th>error</th>\n",
       "    </tr>\n",
       "  </thead>\n",
       "  <tbody>\n",
       "    <tr>\n",
       "      <th>simplify_chance</th>\n",
       "      <td>1.0</td>\n",
       "      <td>-0.5</td>\n",
       "    </tr>\n",
       "    <tr>\n",
       "      <th>error</th>\n",
       "      <td>-0.5</td>\n",
       "      <td>1.0</td>\n",
       "    </tr>\n",
       "  </tbody>\n",
       "</table>\n",
       "</div>"
      ],
      "text/plain": [
       "                 simplify_chance  error\n",
       "simplify_chance              1.0   -0.5\n",
       "error                       -0.5    1.0"
      ]
     },
     "execution_count": 7,
     "metadata": {},
     "output_type": "execute_result"
    }
   ],
   "source": [
    "final_res.iloc[:, :-1].corr('spearman')"
   ]
  },
  {
   "cell_type": "code",
   "execution_count": 8,
   "metadata": {},
   "outputs": [],
   "source": [
    "r2 = Regressor(duration=3, verbose=True)\n",
    "X = resdf.iloc[:,  :-2]\n",
    "y = resdf.iloc[:, -2]\n",
    "X['rand'] = np.random.random(np.shape(X.iloc[:, 0]))\n",
    "X['rand2'] = np.random.random(np.shape(X.iloc[:, 0]))\n",
    "X /= X.mean()\n",
    "y /= y.mean()"
   ]
  },
  {
   "cell_type": "code",
   "execution_count": 9,
   "metadata": {},
   "outputs": [
    {
     "name": "stdout",
     "output_type": "stream",
     "text": [
      "Time left  : 1.98s\n",
      "Best so far: (0.3523610805429846, 40) (error, complexity)\n",
      "Time left  : 0.97s\n",
      "Best so far: (0.35033061245693825, 77) (error, complexity)\n",
      "Complete. {'generations': 129, 'stagnated_generations': 0, 'duration': 3.0601139068603516}\n"
     ]
    }
   ],
   "source": [
    "r2.fit(X, y)"
   ]
  },
  {
   "cell_type": "code",
   "execution_count": 10,
   "metadata": {
    "scrolled": true
   },
   "outputs": [
    {
     "data": {
      "text/plain": [
       "[{'error': 0.3714563980377167, 'complexity': 1, 'program': Program('1.0', 3)},\n",
       " {'error': 0.3591081643643425,\n",
       "  'complexity': 3,\n",
       "  'program': Program('pow $rand2 -0.19450914466422997', 3)},\n",
       " {'error': 0.3590638235232123,\n",
       "  'complexity': 5,\n",
       "  'program': Program('pow pow $rand2 $simplify_chance -0.19450914466422997', 3)},\n",
       " {'error': 0.35840768707675896,\n",
       "  'complexity': 7,\n",
       "  'program': Program('pow div 0.8971371122067768 $rand2 pow 3.594424599838792 -1.4851026398887537', 3)},\n",
       " {'error': 0.3577614089858522,\n",
       "  'complexity': 9,\n",
       "  'program': Program('pow div pow 2.0 -0.19450914466422997 $rand2 pow 3.0 -1.4851026398887537', 3)},\n",
       " {'error': 0.35685569680237583,\n",
       "  'complexity': 14,\n",
       "  'program': Program('pow rec $rand2 pow 2.0 mul -2.7057731348217797 pow pow pow 1.1089527548119864 -1.252253379280373 $rand2 $rand2', 3)},\n",
       " {'error': 0.3567969781309421,\n",
       "  'complexity': 16,\n",
       "  'program': Program('div pow rec $rand2 pow 2.0 mul -2.7057731348217797 pow pow pow 1.1089527548119864 -1.252253379280373 $rand2 $rand2 1.0024181180225769', 3)},\n",
       " {'error': 0.35640066472491794,\n",
       "  'complexity': 17,\n",
       "  'program': Program('pow rec $rand2 pow 2.0 mul -2.9807737766026583 pow pow rec $rand2 pow 3.0 -1.4851026398887537 mul $rand2 $rand2', 3)},\n",
       " {'error': 0.3558514175886605,\n",
       "  'complexity': 18,\n",
       "  'program': Program('pow rec $rand2 pow 2.0 mul -2.9807737766026583 pow mul div $simplify_chance $simplify_chance 0.8971371122067768 mul $rand2 mul $rand2 $rand2', 3)},\n",
       " {'error': 0.3554616904877784,\n",
       "  'complexity': 20,\n",
       "  'program': Program('pow rec $rand2 pow 2.0 mul -3.335928499966078 pow pow div 1.000000993702226 pow $rand2 $rand2 pow 2.6928285411286694 -1.4851026398887537 mul $rand2 $rand2', 3)},\n",
       " {'error': 0.3537569238352351,\n",
       "  'complexity': 25,\n",
       "  'program': Program('pow rec $rand2 pow 2.0 mul -2.7057731348217797 pow pow pow pow mul 0.7619350675729079 $rand2 pow 2.0 div sub -3.9566076866159667 -0.6286307945716237 $rand2 -1.9477455792243559 $rand2 exp $simplify_chance', 3)},\n",
       " {'error': 0.35253932747578626,\n",
       "  'complexity': 29,\n",
       "  'program': Program('pow rec $rand2 pow 2.0 mul -2.7057731348217797 pow pow pow pow $rand2 pow 2.0 div sub -3.9566076866159667 -0.6286307945716237 pow pow $simplify_chance -12.040858752769049 pow $rand2 -8.82427406233026 -3.0 1 exp $simplify_chance', 3)},\n",
       " {'error': 0.35179027221117093,\n",
       "  'complexity': 31,\n",
       "  'program': Program('pow rec $rand2 pow 2.0 mul -2.7057731348217797 pow pow pow pow mul $simplify_chance $rand2 pow 2.0 div sub -3.9566076866159667 -0.6286307945716237 pow pow $simplify_chance -12.040858752769049 pow $rand2 -8.82427406233026 -1.9477455792243559 $rand2 exp $simplify_chance', 3)},\n",
       " {'error': 0.35101943027878235,\n",
       "  'complexity': 33,\n",
       "  'program': Program('pow rec $rand2 pow 2.0 mul -2.7057731348217797 pow pow pow pow mul $simplify_chance $rand2 pow 2.0 div sub -3.9566076866159667 -0.6286307945716237 pow pow $simplify_chance mul -2.7057731348217797 4.0 pow $rand2 -5.426322667451086 -1.9477455792243559 $rand2 exp $simplify_chance', 3)},\n",
       " {'error': 0.3510101656803503,\n",
       "  'complexity': 34,\n",
       "  'program': Program('pow rec $rand2 pow 2.0 mul -2.7057731348217797 pow pow pow pow mul $simplify_chance $rand2 pow 2.0 div sub -3.9566076866159667 -0.6286307945716237 pow pow $simplify_chance mul log 0.06397425026547832 4.0 pow $rand2 -5.426322667451086 -1.9477455792243559 $rand2 exp $simplify_chance', 3)},\n",
       " {'error': 0.35084171347221943,\n",
       "  'complexity': 37,\n",
       "  'program': Program('pow rec $rand2 pow 2.0 mul -2.0 pow pow pow pow mul $simplify_chance $rand2 pow 2.0 div -3.335928499966078 pow pow $simplify_chance mul -2.7057731348217797 add mul $rand2 mul 4.0 $rand2 $simplify_chance pow $rand2 -5.426322667451086 -1.9477455792243559 $rand2 exp $simplify_chance', 3)},\n",
       " {'error': 0.3503015809255582,\n",
       "  'complexity': 40,\n",
       "  'program': Program('pow rec $rand2 pow 2.0 mul -2.0 pow pow pow pow mul $simplify_chance $rand2 pow 2.0 div -3.335928499966078 pow pow $simplify_chance mul -2.7057731348217797 add mul pow exp 0.0 $rand2 mul 4.0 $rand2 $simplify_chance pow $rand2 -5.426322667451086 -1.9477455792243559 $rand2 exp $simplify_chance', 3)},\n",
       " {'error': 0.35027955424039375,\n",
       "  'complexity': 57,\n",
       "  'program': Program('pow rec $rand2 pow 2.0 mul -2.7057731348217797 pow pow pow pow mul $simplify_chance mul $simplify_chance $rand2 pow 2.0 div sub -3.9566076866159667 -0.6286307945716237 pow pow $simplify_chance mul -2.7057731348217797 add mul pow exp 0.4537136817302188 $rand2 mul 4.0 $rand2 $rand2 pow $rand2 -5.426322667451086 -1.9477455792243559 div $rand2 pow 1.0 pow rec $rand2 pow 2.0 mul -2.7057731348217797 pow 2.0 $rand2 exp $simplify_chance', 3)},\n",
       " {'error': 0.3486019895981094,\n",
       "  'complexity': 58,\n",
       "  'program': Program('pow rec $rand2 pow 2.0 mul -2.7057731348217797 pow pow pow pow mul $simplify_chance mul $simplify_chance $rand2 pow 2.0 div sub -3.9566076866159667 -0.6286307945716237 pow pow $simplify_chance mul -2.7057731348217797 add mul div exp 0.4537136817302188 $rand2 mul 4.0 $rand2 $rand2 pow $rand2 -5.426322667451086 -1.9477455792243559 div $rand2 pow rec $rand2 pow rec $rand2 pow 2.0 mul -2.7057731348217797 pow 2.0 $rand2 exp $simplify_chance', 3)},\n",
       " {'error': 0.34851520591794743,\n",
       "  'complexity': 60,\n",
       "  'program': Program('pow rec $rand2 pow 2.0 mul -2.7057731348217797 pow pow pow pow mul $simplify_chance mul $simplify_chance $rand2 pow 2.0 div sub -3.9566076866159667 -0.6286307945716237 pow pow $simplify_chance mul -2.7057731348217797 add mul div exp 0.4537136817302188 $rand2 mul 4.0 $rand2 $rand2 pow $rand2 -5.426322667451086 -1.9477455792243559 div $rand2 pow rec $rand2 pow rec $rand2 pow 2.0 mul -2.7057731348217797 pow mul 0.7619350675729079 $rand2 $rand2 exp $simplify_chance', 3)}]"
      ]
     },
     "execution_count": 10,
     "metadata": {},
     "output_type": "execute_result"
    }
   ],
   "source": [
    "\"\"\"\n",
    "[{'error': 0.0028049765715300722,\n",
    "  'complexity': 1,\n",
    "  'program': Program('0.014426645859910924', 3)},\n",
    "\"\"\"\n",
    "\n",
    "r2.results()"
   ]
  },
  {
   "cell_type": "code",
   "execution_count": 11,
   "metadata": {},
   "outputs": [
    {
     "data": {
      "text/plain": [
       "<matplotlib.axes._subplots.AxesSubplot at 0x7feb232dba00>"
      ]
     },
     "execution_count": 11,
     "metadata": {},
     "output_type": "execute_result"
    },
    {
     "data": {
      "image/png": "[encoded data removed]",
      "text/plain": [
       "<Figure size 432x288 with 1 Axes>"
      ]
     },
     "metadata": {
      "needs_background": "light"
     },
     "output_type": "display_data"
    }
   ],
   "source": [
    "X = pd.DataFrame({'$0': np.linspace(0, 1, 1001)})\n",
    "from symreg.ga import Program\n",
    "p = Program(\n",
    "    'pow 0.9891326826234386 exp $simplify_chance'\n",
    "    .replace('$simplify_chance', '$0')\n",
    ")\n",
    "X['err'] = p.eval([X['$0']])\n",
    "X[100:].plot(x='$0', y='err', marker='o')"
   ]
  },
  {
   "cell_type": "markdown",
   "metadata": {},
   "source": [
    "We chose `mutation_children` to be 1 in production. It seems the other arguments do not matter - the error is very close to the constant program (complexity 1)."
   ]
  },
  {
   "cell_type": "code",
   "execution_count": null,
   "metadata": {},
   "outputs": [],
   "source": []
  },
  {
   "cell_type": "code",
   "execution_count": null,
   "metadata": {},
   "outputs": [],
   "source": []
  }
 ],
 "metadata": {
  "kernelspec": {
   "display_name": "Python 3",
   "language": "python",
   "name": "python3"
  },
  "language_info": {
   "codemirror_mode": {
    "name": "ipython",
    "version": 3
   },
   "file_extension": ".py",
   "mimetype": "text/x-python",
   "name": "python",
   "nbconvert_exporter": "python",
   "pygments_lexer": "ipython3",
   "version": "3.8.6"
  }
 },
 "nbformat": 4,
 "nbformat_minor": 4
}
